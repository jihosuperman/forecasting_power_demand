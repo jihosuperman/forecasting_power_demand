{
  "cells": [
    {
      "cell_type": "markdown",
      "metadata": {
        "id": "PnpO3d1ufQJH"
      },
      "source": [
        "* 아래 함수는 `weather_localcenter_metadata`와 `weather_5minute_ASOS_2020-2023.parquet`, `holiday.csv`를 사용하여 5분 단위 기상대표값을 도출합니다.\n",
        "* 본 모델링에서는 기상인자로 최고기온, 최저기온, 평균일사량 데이터를 사용하고자 합니다. 일사량의 결측치 비율을 최소화 하기 위해 울산시를 제외한 특별시 및 광역시 데이터를 사용하였으며 (울산시 일사량 데이터의 대부분이 결측치였음), 강원도의 기상 인자도 반영하기 위해 도내에서 가장 인구가 많은 도시인 원주를 포함하였습니다.\n",
        "* 보간법을 적용하기 전의 기온과 일사량의 결측치 비율은 전체 대비 0.2%, 0.4% 수준이며, 선형보간법을 통해 결측치를 보완하고자 했습니다.\n",
        "* 단순히 휴일여부가 아니라 어떤 휴일에 해당하는지를 더미변수로 추가해보았습니다. (휴일이 아닌 날, 신정, 설날, 삼일절, 선거일, 어린이날, 석가탄신일, 현충일, 광복절, 추석, 개천절, 기독탄신일, 한글날, 대체공휴일 등 총 14가지로 분류)"
      ]
    },
    {
      "cell_type": "code",
      "source": [
        "from google.colab import drive\n",
        "drive.mount('/content/drive')"
      ],
      "metadata": {
        "colab": {
          "base_uri": "https://localhost:8080/"
        },
        "id": "msmA5PWf7MKC",
        "outputId": "d441d0c9-c939-40ea-cc34-628ed8c65a2d"
      },
      "execution_count": 1,
      "outputs": [
        {
          "output_type": "stream",
          "name": "stdout",
          "text": [
            "Drive already mounted at /content/drive; to attempt to forcibly remount, call drive.mount(\"/content/drive\", force_remount=True).\n"
          ]
        }
      ]
    },
    {
      "cell_type": "code",
      "source": [
        "cd 'drive/MyDrive/DL_Proj/'"
      ],
      "metadata": {
        "colab": {
          "base_uri": "https://localhost:8080/"
        },
        "id": "Ovb91TzN7Mwf",
        "outputId": "021d77fd-bbbe-4945-b2ab-5480920a3722"
      },
      "execution_count": 2,
      "outputs": [
        {
          "output_type": "stream",
          "name": "stdout",
          "text": [
            "/content/drive/MyDrive/DL_Proj\n"
          ]
        }
      ]
    },
    {
      "cell_type": "code",
      "execution_count": 3,
      "metadata": {
        "id": "pgEc7cGI9j35"
      },
      "outputs": [],
      "source": [
        "def weather_data_5minute(weather_metadata_path, weather_5minute_ASOS_path, holiday_path):\n",
        "\n",
        "  import pandas as pd\n",
        "\n",
        "  # 기상관측 MetaData 불러오기\n",
        "  weather_metadata = pd.read_csv(weather_metadata_path)\n",
        "  STN_dict = {STN_name : STN_num for STN_num, STN_name in zip(weather_metadata['지점'], weather_metadata['지점명'])}\n",
        "  target_STN_list = [STN_dict[STN_name] for STN_name in ['서울', '부산', '인천', '대구', '대전', '광주', '원주']]\n",
        "\n",
        "  # 서울 포함 7개 도시의 기온 및 일사량 데이터 불러오기\n",
        "  weather_5minute = pd.read_parquet(weather_5minute_ASOS_path).astype({'지점' : 'int'})\n",
        "  weather_5minute = weather_5minute[weather_5minute['지점'].isin(target_STN_list)]\n",
        "  weather_5minute = weather_5minute[['지점', '일시', '기온(°C)', '일사(MJ/m^2)']]\n",
        "  weather_5minute.columns = ['지점', '일시', '기온', '일사']\n",
        "\n",
        "  column_list = ['기온', '일사']\n",
        "\n",
        "  # 선형보간법 사용하여 결측값 채우기\n",
        "  for idx, STN in enumerate(target_STN_list):\n",
        "\n",
        "      # ① 각 STN별로 데이터 나누기\n",
        "      tmp = weather_5minute[weather_5minute['지점'] == STN]\n",
        "\n",
        "      # ② 시간순으로 정렬하기\n",
        "      tmp = tmp.sort_values(by='일시')\n",
        "\n",
        "      # ③ 선형보간법을 사용하여 nan값 채우기                \n",
        "      for column in column_list:\n",
        "        tmp[column] = tmp[column].interpolate(method='linear')\n",
        "\n",
        "      # ④ tmp 합치기\n",
        "      if idx == 0:\n",
        "        interpolated_weather = tmp\n",
        "      else:\n",
        "        interpolated_weather = pd.concat([interpolated_weather, tmp])\n",
        "\n",
        "  # 전국 기상 대표값 정하기 (최고기온, 최저기온, 평균일사량)\n",
        "  for idx, column in enumerate(column_list):\n",
        "    if column == '기온':\n",
        "      # 최고 기온\n",
        "      tmp_1 = pd.DataFrame(interpolated_weather.groupby('일시', as_index = False)[column].max()).rename(columns = {'기온' : 'max_temp'})\n",
        "      # 최저 기온\n",
        "      tmp_2 = pd.DataFrame(interpolated_weather.groupby('일시', as_index = False)[column].min()).rename(columns = {'기온' : 'min_temp'})\n",
        "      tmp = pd.merge(tmp_1, tmp_2, on = '일시', how = 'inner')\n",
        "    else:\n",
        "      # 평균 일사량\n",
        "      tmp = pd.DataFrame(interpolated_weather.groupby('일시', as_index = False)[column].mean()).rename(columns = {'일사' : 'mean_insolation'})\n",
        "    # ② groupby 결과를 인덱스 기준으로 Join\n",
        "    if idx == 0:\n",
        "      representative_weather = tmp\n",
        "    else:\n",
        "      representative_weather = pd.merge(representative_weather, tmp, on = '일시', how = 'inner')\n",
        "\n",
        "  representative_weather.rename(columns = {'일시' : 'datetime'}, inplace= True)\n",
        "\n",
        "  # 요일 특성 반영 (더미변수로 반영)\n",
        "  # 0 : 월요일, 1 : 화요일 ~ 금요일, 2 : 토요일, 3 : 일요일\n",
        "\n",
        "  representative_weather['weekday'] = pd.to_datetime(representative_weather['datetime']).dt.weekday\n",
        "  representative_weather.replace({'weekday' : {2 : 1, 3 : 1, 4 : 1, 5 : 2, 6 : 3}}, inplace = True)\n",
        "  representative_weather = pd.get_dummies(representative_weather, columns = ['weekday'])\n",
        "                                          \n",
        "  # 휴일 유형에 맞춘 더미변수 반영\n",
        "\n",
        "  holiday = pd.read_csv(holiday_path)\n",
        "\n",
        "  for dateName in ['국회의원선거일', '대통령선거일', '동시지방선거일', '전국동시지방선거', '제21대 국회의원선거']:\n",
        "    holiday.replace({'dateName' : {dateName : '선거일'}}, inplace = True)\n",
        "  holiday.replace({'dateName' : {'1월1일' : '신정'}}, inplace = True)\n",
        "  holiday.replace({'dateName' : {'부처님오신날' : '석가탄신일'}}, inplace = True)\n",
        "  holiday.replace({'dateName' : {'어린이 날' : '어린이날'}}, inplace = True)\n",
        "  holiday.replace({'dateName' : {'대체휴무일' : '대체공휴일'}}, inplace = True)\n",
        "  holiday.replace({'dateName' : {'임시공휴일' : '대체공휴일'}}, inplace = True)\n",
        "\n",
        "  nameToNumber = {dateName : idx + 1  for idx, dateName in enumerate(list(holiday['dateName'].unique()))}\n",
        "  holiday.replace({'dateName' : nameToNumber}, inplace = True)\n",
        "  holiday_dict = {locdate : dateName for dateName, locdate in zip(holiday['dateName'], holiday['locdate'])}\n",
        "\n",
        "  for row_number in range(representative_weather.shape[0]):\n",
        "    if representative_weather.at[row_number, 'datetime'][:-6] in list(holiday['locdate']):\n",
        "      representative_weather.at[row_number, 'holiday'] = holiday_dict[representative_weather.at[row_number, 'datetime'][:-6]]\n",
        "    else:\n",
        "      representative_weather.at[row_number, 'holiday'] = 0\n",
        "\n",
        "  representative_weather = pd.get_dummies(representative_weather, columns = ['holiday'])\n",
        "\n",
        "  # 월, 시간 정보 반영 (더미변수로 반영)\n",
        "\n",
        "  representative_weather['month'] = pd.to_datetime(representative_weather['datetime']).dt.month\n",
        "  representative_weather = pd.get_dummies(representative_weather, columns = ['month'])\n",
        "  representative_weather['hour'] = pd.to_datetime(representative_weather['datetime']).dt.hour\n",
        "  representative_weather = pd.get_dummies(representative_weather, columns = ['hour'])\n",
        "\n",
        "  return representative_weather"
      ]
    },
    {
      "cell_type": "code",
      "execution_count": 4,
      "metadata": {
        "id": "xZHiDZbMiWXp"
      },
      "outputs": [],
      "source": [
        "# 기상대표값 데이터 생성하기\n",
        "\n",
        "weather_metadata_path = './data/weather_localcenter_metadata.csv'\n",
        "weather_5minute_ASOS_path = './data/weather_5minute_ASOS_2020-2023.parquet'\n",
        "holiday_path = './data/holidays.csv'\n",
        "representative_weather = weather_data_5minute(weather_metadata_path, weather_5minute_ASOS_path, holiday_path)"
      ]
    },
    {
      "cell_type": "markdown",
      "metadata": {
        "id": "8O43ndpiGGbH"
      },
      "source": [
        "전력 데이터는 지호님이 완성해주신 `power_demand_interpolated`를 사용하였습니다."
      ]
    },
    {
      "cell_type": "code",
      "execution_count": 5,
      "metadata": {
        "id": "UuSTnbOhBy77"
      },
      "outputs": [],
      "source": [
        "# 전력 데이터 불러오기\n",
        "\n",
        "import pandas as pd\n",
        "\n",
        "power = pd.read_csv('./data/power_demand_interpolated.csv')\n",
        "power.columns = ['datetime', 'load']"
      ]
    },
    {
      "cell_type": "markdown",
      "metadata": {
        "id": "s2aj7i7bpayD"
      },
      "source": [
        "기상인자 대표값과 보간 처리된 전력데이터를 일시를 기준으로 Inner Join합니다."
      ]
    },
    {
      "cell_type": "code",
      "execution_count": 6,
      "metadata": {
        "id": "0-x7VBwELdPq"
      },
      "outputs": [],
      "source": [
        "# 전력 데이터와 기상인자 데이터 합치기\n",
        "\n",
        "target_df = pd.merge(representative_weather, power, on = 'datetime', how = 'inner')"
      ]
    },
    {
      "cell_type": "markdown",
      "metadata": {
        "id": "lKs5VX_HDF20"
      },
      "source": [
        "Custom Dataset과 Dataloader를 사용하여 메모리 사용량을 줄였습니다."
      ]
    },
    {
      "cell_type": "code",
      "execution_count": 8,
      "metadata": {
        "id": "JL2uPxxUaUnt"
      },
      "outputs": [],
      "source": [
        "import torch\n",
        "from torch.utils.data import Dataset, DataLoader, Subset\n",
        "from sklearn.preprocessing import MinMaxScaler\n",
        "import pandas as pd\n",
        "import numpy as np\n",
        "\n",
        "class CustomDataset(torch.utils.data.Dataset):\n",
        "  def __init__(self, target_df, seq_len, step_len, stride, mode='train'):\n",
        "\n",
        "    self.seq_len = seq_len\n",
        "    self.step_len = step_len\n",
        "    self.stride= stride\n",
        "    self.train_index = target_df[target_df['datetime'] < '2023-03-06'].index[-1] - step_len + 1\n",
        "    self.val_index = (target_df[(target_df['datetime'] < '2023-03-13') & (target_df['datetime'] >= '2023-03-06')].index[0] - seq_len, \n",
        "                      target_df[(target_df['datetime'] < '2023-03-13') & (target_df['datetime'] >= '2023-03-06')].index[-1] + step_len + 1)\n",
        "    self.test_index = (target_df[(target_df['datetime'] < '2023-03-20') & (target_df['datetime'] >= '2023-03-13')].index[0] - seq_len, \n",
        "                       target_df[(target_df['datetime'] < '2023-03-20') & (target_df['datetime'] >= '2023-03-13')].index[-1] + step_len + 1)\n",
        "    \n",
        "    self.X_train = target_df.iloc[:self.train_index,1:]\n",
        "    self.y_train = target_df.iloc[:self.train_index,-1]\n",
        "    self.X_val = target_df.iloc[self.val_index[0]:self.val_index[1],1:]\n",
        "    self.y_val = target_df.iloc[self.val_index[0]:self.val_index[1],-1]\n",
        "    self.X_test = target_df.iloc[self.test_index[0]:self.test_index[1],1:]\n",
        "    self.y_test = target_df.iloc[self.test_index[0]:self.test_index[1],-1]\n",
        "\n",
        "    self.x_scaler = MinMaxScaler()\n",
        "    self.y_scaler = MinMaxScaler()\n",
        "\n",
        "    self.mode = mode\n",
        "\n",
        "    self.seq_len = seq_len\n",
        "    self.step_len = step_len\n",
        "    self.stride= stride\n",
        "\n",
        "  def fit_scale_x(self):\n",
        "    self.X_train = self.x_scaler.fit_transform(self.X_train)\n",
        "    self.X_val = self.x_scaler.transform(self.X_val)  \n",
        "    self.X_test = self.x_scaler.transform(self.X_test)\n",
        "\n",
        "  def fit_scale_y(self):\n",
        "    self.y_train = self.y_scaler.fit_transform(np.array(self.y_train).reshape(-1,1))\n",
        "    self.y_val = self.y_scaler.transform(np.array(self.y_val).reshape(-1,1))\n",
        "    self.y_test = self.y_scaler.transform(np.array(self.y_test).reshape(-1,1))\n",
        "\n",
        "  def numpy_to_torch(self):\n",
        "    self.X_train = torch.FloatTensor(self.X_train).cuda()\n",
        "    self.y_train = torch.FloatTensor(self.y_train).cuda()\n",
        "    self.X_val = torch.FloatTensor(self.X_val).cuda()\n",
        "    self.y_val = torch.FloatTensor(self.y_val).cuda()\n",
        "    self.X_test = torch.FloatTensor(self.X_test).cuda()\n",
        "    self.y_test = torch.FloatTensor(self.y_test).cuda()\n",
        "\n",
        "  def set_mode(self, mode):\n",
        "    self.mode = mode\n",
        "\n",
        "  def __len__(self):\n",
        "    if self.mode == 'train':\n",
        "        return (self.X_train.shape[0] - step_len - seq_len) // stride\n",
        "    elif self.mode == 'val':\n",
        "        return (self.X_val.shape[0] - step_len - seq_len) // stride\n",
        "    elif self.mode == 'test':\n",
        "        return (self.X_test.shape[0] - step_len - seq_len) // stride\n",
        "    else:\n",
        "        print(\"mode를 다시 확인하세요\")\n",
        "  \n",
        "  def __getitem__(self, idx):\n",
        "    if self.mode == 'train':\n",
        "        return self.X_train[idx*self.stride :idx*self.stride + self.seq_len], self.y_train[idx*self.stride + self.seq_len : idx*self.stride + self.seq_len + self.step_len]\n",
        "    elif self.mode == 'val':\n",
        "        return self.X_val[idx*self.stride :idx*self.stride + self.seq_len], self.y_val[idx*self.stride + self.seq_len : idx*self.stride + self.seq_len + self.step_len]\n",
        "    elif self.mode == 'test':\n",
        "        return self.X_test[idx*self.stride :idx*self.stride + self.seq_len], self.y_test[idx*self.stride + self.seq_len : idx*self.stride + self.seq_len + self.step_len]\n",
        "    else:\n",
        "        print(\"mode를 다시 확인하세요\")"
      ]
    },
    {
      "cell_type": "code",
      "source": [
        "# output을 2016개로 확장한 version\n",
        "\n",
        "import torch\n",
        "from torch.utils.data import Dataset, DataLoader, Subset\n",
        "from sklearn.preprocessing import MinMaxScaler\n",
        "import pandas as pd\n",
        "import numpy as np\n",
        "\n",
        "class CustomDataset(torch.utils.data.Dataset):\n",
        "  def __init__(self, target_df, seq_len, step_len, stride, mode='train'):\n",
        "\n",
        "    self.seq_len = seq_len\n",
        "    self.step_len = step_len\n",
        "    self.stride= stride\n",
        "    self.train_index = target_df[target_df['datetime'] < '2023-02-27'].index[-1] - step_len + 1\n",
        "    self.val_index = (target_df[(target_df['datetime'] < '2023-03-13') & (target_df['datetime'] >= '2023-02-27')].index[0] - seq_len, \n",
        "                      target_df[(target_df['datetime'] < '2023-03-13') & (target_df['datetime'] >= '2023-02-27')].index[-1] + step_len + 1)\n",
        "    self.test_index = (target_df[(target_df['datetime'] < '2023-03-20') & (target_df['datetime'] >= '2023-03-13')].index[0] - seq_len, \n",
        "                       target_df[(target_df['datetime'] < '2023-03-20') & (target_df['datetime'] >= '2023-03-13')].index[-1] + step_len + 1)\n",
        "    \n",
        "    self.X_train = target_df.iloc[:self.train_index,1:]\n",
        "    self.y_train = target_df.iloc[:self.train_index,-1]\n",
        "    self.X_val = target_df.iloc[self.val_index[0]:self.val_index[1],1:]\n",
        "    self.y_val = target_df.iloc[self.val_index[0]:self.val_index[1],-1]\n",
        "    self.X_test = target_df.iloc[self.test_index[0]:self.test_index[1],1:]\n",
        "    self.y_test = target_df.iloc[self.test_index[0]:self.test_index[1],-1]\n",
        "\n",
        "    self.x_scaler = MinMaxScaler()\n",
        "    self.y_scaler = MinMaxScaler()\n",
        "\n",
        "    self.mode = mode\n",
        "\n",
        "    self.seq_len = seq_len\n",
        "    self.step_len = step_len\n",
        "    self.stride= stride\n",
        "\n",
        "  def fit_scale_x(self):\n",
        "    self.X_train = self.x_scaler.fit_transform(self.X_train)\n",
        "    self.X_val = self.x_scaler.transform(self.X_val)  \n",
        "    self.X_test = self.x_scaler.transform(self.X_test)\n",
        "\n",
        "  def fit_scale_y(self):\n",
        "    self.y_train = self.y_scaler.fit_transform(np.array(self.y_train).reshape(-1,1))\n",
        "    self.y_val = self.y_scaler.transform(np.array(self.y_val).reshape(-1,1))\n",
        "    self.y_test = self.y_scaler.transform(np.array(self.y_test).reshape(-1,1))\n",
        "\n",
        "  def numpy_to_torch(self):\n",
        "    self.X_train = torch.FloatTensor(self.X_train).cuda()\n",
        "    self.y_train = torch.FloatTensor(self.y_train).cuda()\n",
        "    self.X_val = torch.FloatTensor(self.X_val).cuda()\n",
        "    self.y_val = torch.FloatTensor(self.y_val).cuda()\n",
        "    self.X_test = torch.FloatTensor(self.X_test).cuda()\n",
        "    self.y_test = torch.FloatTensor(self.y_test).cuda()\n",
        "\n",
        "  def set_mode(self, mode):\n",
        "    self.mode = mode\n",
        "\n",
        "  def __len__(self):\n",
        "    if self.mode == 'train':\n",
        "        return (self.X_train.shape[0] - step_len - seq_len) // stride\n",
        "    elif self.mode == 'val':\n",
        "        return (self.X_val.shape[0] - step_len - seq_len) // stride\n",
        "    elif self.mode == 'test':\n",
        "        return (self.X_test.shape[0] - step_len - seq_len) // stride\n",
        "    else:\n",
        "        print(\"mode를 다시 확인하세요\")\n",
        "  \n",
        "  def __getitem__(self, idx):\n",
        "    if self.mode == 'train':\n",
        "        return self.X_train[idx*self.stride :idx*self.stride + self.seq_len], self.y_train[idx*self.stride + self.seq_len : idx*self.stride + self.seq_len + self.step_len]\n",
        "    elif self.mode == 'val':\n",
        "        return self.X_val[idx*self.stride :idx*self.stride + self.seq_len], self.y_val[idx*self.stride + self.seq_len : idx*self.stride + self.seq_len + self.step_len]\n",
        "    elif self.mode == 'test':\n",
        "        return self.X_test[idx*self.stride :idx*self.stride + self.seq_len], self.y_test[idx*self.stride + self.seq_len : idx*self.stride + self.seq_len + self.step_len]\n",
        "    else:\n",
        "        print(\"mode를 다시 확인하세요\")"
      ],
      "metadata": {
        "id": "D1z16Vnm2ZIC"
      },
      "execution_count": 7,
      "outputs": []
    },
    {
      "cell_type": "code",
      "source": [
        "## 전력수요만으로 전력수요 예측하기 테스트 코드\n",
        "\n",
        "import torch\n",
        "from torch.utils.data import Dataset, DataLoader, Subset\n",
        "from sklearn.preprocessing import MinMaxScaler\n",
        "import pandas as pd\n",
        "import numpy as np\n",
        "\n",
        "class CustomDataset(torch.utils.data.Dataset):\n",
        "  def __init__(self, target_df, seq_len, step_len, stride, mode='train'):\n",
        "\n",
        "    self.seq_len = seq_len\n",
        "    self.step_len = step_len\n",
        "    self.stride= stride\n",
        "\n",
        "    self.train_index = target_df[target_df['datetime'] < '2023-03-06'].index[-1] - step_len + 1\n",
        "    self.val_index = (target_df[(target_df['datetime'] < '2023-03-13') & (target_df['datetime'] >= '2023-03-06')].index[0] - seq_len, \n",
        "                      target_df[(target_df['datetime'] < '2023-03-13') & (target_df['datetime'] >= '2023-03-06')].index[-1] + step_len + 1)\n",
        "    self.test_index = (target_df[(target_df['datetime'] < '2023-03-20') & (target_df['datetime'] >= '2023-03-13')].index[0] - seq_len, \n",
        "                       target_df[(target_df['datetime'] < '2023-03-20') & (target_df['datetime'] >= '2023-03-13')].index[-1] + step_len + 1)\n",
        "    \n",
        "    self.X_train = target_df.iloc[:self.train_index,-1]\n",
        "    self.y_train = target_df.iloc[:self.train_index,-1]\n",
        "    self.X_val = target_df.iloc[self.val_index[0]:self.val_index[1],-1]\n",
        "    self.y_val = target_df.iloc[self.val_index[0]:self.val_index[1],-1]\n",
        "    self.X_test = target_df.iloc[self.test_index[0]:self.test_index[1],-1]\n",
        "    self.y_test = target_df.iloc[self.test_index[0]:self.test_index[1],-1]\n",
        "\n",
        "    self.x_scaler = MinMaxScaler()\n",
        "    self.y_scaler = MinMaxScaler()\n",
        "\n",
        "    self.mode = mode\n",
        "\n",
        "    self.seq_len = seq_len\n",
        "    self.step_len = step_len\n",
        "    self.stride= stride\n",
        "\n",
        "  def fit_scale_x(self):\n",
        "    self.X_train = self.x_scaler.fit_transform(np.array(self.X_train).reshape(-1,1))\n",
        "    self.X_val = self.x_scaler.transform(np.array(self.X_val).reshape(-1,1))  \n",
        "    self.X_test = self.x_scaler.transform(np.array(self.X_test).reshape(-1,1))\n",
        "\n",
        "  def fit_scale_y(self):\n",
        "    self.y_train = self.y_scaler.fit_transform(np.array(self.y_train).reshape(-1,1))\n",
        "    self.y_val = self.y_scaler.transform(np.array(self.y_val).reshape(-1,1))\n",
        "    self.y_test = self.y_scaler.transform(np.array(self.y_test).reshape(-1,1))\n",
        "\n",
        "  def numpy_to_torch(self):\n",
        "    self.X_train = torch.FloatTensor(self.X_train).cuda()\n",
        "    self.y_train = torch.FloatTensor(self.y_train).cuda()\n",
        "    self.X_val = torch.FloatTensor(self.X_val).cuda()\n",
        "    self.y_val = torch.FloatTensor(self.y_val).cuda()\n",
        "    self.X_test = torch.FloatTensor(self.X_test).cuda()\n",
        "    self.y_test = torch.FloatTensor(self.y_test).cuda()\n",
        "\n",
        "  def set_mode(self, mode):\n",
        "    self.mode = mode\n",
        "\n",
        "  def __len__(self):\n",
        "    if self.mode == 'train':\n",
        "        return (self.X_train.shape[0] - step_len - seq_len) // stride\n",
        "    elif self.mode == 'val':\n",
        "        return (self.X_val.shape[0] - step_len - seq_len) // stride\n",
        "    elif self.mode == 'test':\n",
        "        return (self.X_test.shape[0] - step_len - seq_len) // stride\n",
        "    else:\n",
        "        print(\"mode를 다시 확인하세요\")\n",
        "  \n",
        "  def __getitem__(self, idx):\n",
        "    if self.mode == 'train':\n",
        "        return self.X_train[idx*self.stride :idx*self.stride + self.seq_len], self.y_train[idx*self.stride + self.seq_len : idx*self.stride + self.seq_len + self.step_len]\n",
        "    elif self.mode == 'val':\n",
        "        return self.X_val[idx*self.stride :idx*self.stride + self.seq_len], self.y_val[idx*self.stride + self.seq_len : idx*self.stride + self.seq_len + self.step_len]\n",
        "    elif self.mode == 'test':\n",
        "        return self.X_test[idx*self.stride :idx*self.stride + self.seq_len], self.y_test[idx*self.stride + self.seq_len : idx*self.stride + self.seq_len + self.step_len]\n",
        "    else:\n",
        "        print(\"mode를 다시 확인하세요\")"
      ],
      "metadata": {
        "id": "DXxE9Wnj5MuK"
      },
      "execution_count": null,
      "outputs": []
    },
    {
      "cell_type": "code",
      "source": [
        "# output 2016개로 확장\n",
        "# CustomDataset 파라미터 설정 (Scaler 객체, 시퀀스의 길이, 스텝 사이즈, 건너뛸 간격)\n",
        "\n",
        "seq_len = 2016 # 시퀀스의 길이\n",
        "step_len = 2016 # 스텝 사이즈 (추정하고자 하는 값의 개수)\n",
        "stride = 1 # 건너뛸 간격\n",
        "\n",
        "# 데이터셋 생성\n",
        "dataset = CustomDataset(target_df, seq_len, step_len, stride)\n",
        "dataset.fit_scale_x()\n",
        "dataset.fit_scale_y()\n",
        "dataset.numpy_to_torch()\n",
        "\n",
        "# 모드 셋팅\n",
        "dataset.set_mode('train')\n",
        "\n",
        "# 데이터 로더 생성\n",
        "dataloader = DataLoader(dataset, batch_size = 288, shuffle = True, drop_last = True)"
      ],
      "metadata": {
        "id": "u71UmIxgSLkZ"
      },
      "execution_count": 8,
      "outputs": []
    },
    {
      "cell_type": "code",
      "source": [
        "## 태진님코드\n",
        "\n",
        "import torch\n",
        "from torch.utils.data import Dataset, DataLoader, Subset\n",
        "from sklearn.preprocessing import MinMaxScaler\n",
        "import pandas as pd\n",
        "import numpy as np\n",
        "\n",
        "class CustomDataset(torch.utils.data.Dataset):\n",
        "  def __init__(self, target_df, binary_var_start_number, scaler_for_X, scaler_for_Y, seq_len, step_len, stride):\n",
        "    self.dataset_tensor = torch.FloatTensor(np.array(pd.concat([pd.DataFrame(scaler_for_X.fit_transform(target_df.iloc[:,1:binary_var_start_number])),\n",
        "                                                               target_df.iloc[:,binary_var_start_number:-1],\n",
        "                                                               pd.DataFrame(scaler_for_Y.fit_transform(np.array(target_df['load']).reshape(-1, 1)))], axis = 1))).cuda()                           \n",
        "    self.data_size = (self.dataset_tensor.shape[0] - step_len - seq_len) // stride\n",
        "    self.seq_len = seq_len\n",
        "    self.step_len = step_len\n",
        "    self.stride= stride\n",
        "\n",
        "  def __len__(self):\n",
        "    return self.data_size\n",
        "  \n",
        "  def __getitem__(self, idx):\n",
        "    return self.dataset_tensor[idx*self.stride :idx*self.stride + self.seq_len, :], self.dataset_tensor[idx*self.stride + self.seq_len : idx*self.stride + self.seq_len + self.step_len, -1]\n",
        "\n",
        "# Scaler 객체 생성\n",
        "ss_1 = MinMaxScaler() # Scaler for X\n",
        "ss_2 = MinMaxScaler() # Scaler for y\n",
        "\n",
        "# CustomDataset 파라미터 설정 (Scaler 객체, 시퀀스의 길이, 스텝 사이즈, 건너뛸 간격)\n",
        "seq_len = 2016 # 시퀀스의 길이\n",
        "step_len = 72 # 스텝 사이즈 (추정하고자 하는 값의 개수)\n",
        "stride = 1 # 건너뛸 간격\n",
        "\n",
        "# 데이터셋 생성\n",
        "dataset2 = CustomDataset(target_df, 4, ss_1, ss_2, seq_len, step_len, stride)\n",
        "\n",
        "# 학습용, 테스트용 데이터셋 분리\n",
        "train_size2 = int(round(len(dataset2) * 0.8))\n",
        "train_dataset2 = Subset(dataset2, [i for i in range(train_size2)])\n",
        "test_dataset2 = Subset(dataset2, [i for i in range(train_size2, len(dataset))])\n",
        "\n",
        "# 데이터 로더 생성\n",
        "train_dataloader2 = DataLoader(train_dataset2, batch_size = 256, shuffle = True, drop_last = True)\n",
        "val_dataloader2 = DataLoader(test_dataset2, batch_size = 32, shuffle = True, drop_last = True)"
      ],
      "metadata": {
        "id": "Dq1vAm7jKfwJ"
      },
      "execution_count": null,
      "outputs": []
    },
    {
      "cell_type": "code",
      "execution_count": 13,
      "metadata": {
        "id": "1mFvSn6bw5q9"
      },
      "outputs": [],
      "source": [
        "import torch.nn as nn\n",
        "\n",
        "# 모델 구성하기\n",
        "\n",
        "input_dim = 58 # 입력 컬럼의 개수\n",
        "hidden_dim = 288 # 은닉 상태의 개수\n",
        "output_dim = 2016 # 출력 값의 개수(형태)\n",
        "learning_rate = 0.0001 # 학습률\n",
        "nb_epochs = 30 # 에포크의 수\n",
        "seq_length = 2016 # sequence의 길이 (얼마간의 데이터가 들어오는가)\n",
        "\n",
        "class Net(nn.Module):\n",
        "  def __init__(self, input_dim, hidden_dim, seq_len, output_dim, layers):\n",
        "    super(Net, self).__init__()\n",
        "    self.hidden_dim = hidden_dim\n",
        "    self.seq_len = seq_len\n",
        "    self.output_dim = output_dim\n",
        "    self.layers = layers\n",
        "    self.lstm = nn.LSTM(input_dim, hidden_dim, num_layers = layers, batch_first = True)\n",
        "    self.fc = nn.Linear(hidden_dim, output_dim, bias = True)\n",
        "\n",
        "  def reset_hidden_state(self):\n",
        "    self.hidden = (\n",
        "        torch.zeros(self.layers, self.seq_len, self.hidden_dim),\n",
        "        torch.zeros(self.layers, self.seq_len, self.hidden_dim)\n",
        "    )\n",
        "  \n",
        "  def forward(self, x):\n",
        "    x, _status = self.lstm(x)\n",
        "    x = self.fc(x[:, -1])\n",
        "    return x"
      ]
    },
    {
      "cell_type": "code",
      "source": [
        "!pip install torchmetrics\n",
        "device = torch.device('cuda:0' if torch.cuda.is_available() else 'cpu')\n",
        "from torchmetrics import MeanAbsolutePercentageError"
      ],
      "metadata": {
        "colab": {
          "base_uri": "https://localhost:8080/"
        },
        "id": "CW-WGgMeEiCK",
        "outputId": "36fd8a16-6861-4061-9688-aab44198fe7d"
      },
      "execution_count": 14,
      "outputs": [
        {
          "output_type": "stream",
          "name": "stdout",
          "text": [
            "Looking in indexes: https://pypi.org/simple, https://us-python.pkg.dev/colab-wheels/public/simple/\n",
            "Requirement already satisfied: torchmetrics in /usr/local/lib/python3.10/dist-packages (0.11.4)\n",
            "Requirement already satisfied: numpy>=1.17.2 in /usr/local/lib/python3.10/dist-packages (from torchmetrics) (1.22.4)\n",
            "Requirement already satisfied: torch>=1.8.1 in /usr/local/lib/python3.10/dist-packages (from torchmetrics) (2.0.1+cu118)\n",
            "Requirement already satisfied: packaging in /usr/local/lib/python3.10/dist-packages (from torchmetrics) (23.1)\n",
            "Requirement already satisfied: filelock in /usr/local/lib/python3.10/dist-packages (from torch>=1.8.1->torchmetrics) (3.12.0)\n",
            "Requirement already satisfied: typing-extensions in /usr/local/lib/python3.10/dist-packages (from torch>=1.8.1->torchmetrics) (4.5.0)\n",
            "Requirement already satisfied: sympy in /usr/local/lib/python3.10/dist-packages (from torch>=1.8.1->torchmetrics) (1.11.1)\n",
            "Requirement already satisfied: networkx in /usr/local/lib/python3.10/dist-packages (from torch>=1.8.1->torchmetrics) (3.1)\n",
            "Requirement already satisfied: jinja2 in /usr/local/lib/python3.10/dist-packages (from torch>=1.8.1->torchmetrics) (3.1.2)\n",
            "Requirement already satisfied: triton==2.0.0 in /usr/local/lib/python3.10/dist-packages (from torch>=1.8.1->torchmetrics) (2.0.0)\n",
            "Requirement already satisfied: cmake in /usr/local/lib/python3.10/dist-packages (from triton==2.0.0->torch>=1.8.1->torchmetrics) (3.25.2)\n",
            "Requirement already satisfied: lit in /usr/local/lib/python3.10/dist-packages (from triton==2.0.0->torch>=1.8.1->torchmetrics) (16.0.5)\n",
            "Requirement already satisfied: MarkupSafe>=2.0 in /usr/local/lib/python3.10/dist-packages (from jinja2->torch>=1.8.1->torchmetrics) (2.1.2)\n",
            "Requirement already satisfied: mpmath>=0.19 in /usr/local/lib/python3.10/dist-packages (from sympy->torch>=1.8.1->torchmetrics) (1.3.0)\n"
          ]
        }
      ]
    },
    {
      "cell_type": "code",
      "source": [
        "import datetime"
      ],
      "metadata": {
        "id": "LhLvAt8ALx4c"
      },
      "execution_count": 18,
      "outputs": []
    },
    {
      "cell_type": "code",
      "source": [
        "str(datetime.datetime.now() - datetime.datetime.now())"
      ],
      "metadata": {
        "colab": {
          "base_uri": "https://localhost:8080/",
          "height": 35
        },
        "id": "ovY-fFfqLzDO",
        "outputId": "e21a34af-9c07-4c5d-cda9-10cd62d5fb98"
      },
      "execution_count": 22,
      "outputs": [
        {
          "output_type": "execute_result",
          "data": {
            "text/plain": [
              "'-1 day, 23:59:59.999997'"
            ],
            "application/vnd.google.colaboratory.intrinsic+json": {
              "type": "string"
            }
          },
          "metadata": {},
          "execution_count": 22
        }
      ]
    },
    {
      "cell_type": "code",
      "execution_count": 23,
      "metadata": {
        "id": "rZeABdQyQCbq"
      },
      "outputs": [],
      "source": [
        "# 모델 학습 함수 만들기\n",
        "\n",
        "def train_model(model, train_dataloader, val_dataloader=None, num_epochs = None, lr = None, verbose = 10, patience = 10):\n",
        "  optimizer = torch.optim.Adam(model.parameters(), lr = learning_rate)\n",
        "  nb_epochs = num_epochs\n",
        "  mean_abs_percentage_error = MeanAbsolutePercentageError().to(device)\n",
        "\n",
        "  # epoch마다 loss 저장\n",
        "  train_hist = np.zeros(nb_epochs)\n",
        "  output = []\n",
        "  \n",
        "  for epoch in range(nb_epochs):\n",
        "    time_start = datetime.datetime.now()\n",
        "    avg_cost = 0\n",
        "    total_batch = len(train_dataloader)\n",
        "    for batch_idx, samples in enumerate(train_dataloader):\n",
        "      x_train, y_train = samples\n",
        "      # seq별 hidden state reset\n",
        "      model.reset_hidden_state()\n",
        "      # H(x) 계산\n",
        "      outputs = model(x_train)\n",
        "      # cost 계산\n",
        "      loss = mean_abs_percentage_error(outputs, np.squeeze(y_train))\n",
        "      # cost로 H(x) 개선\n",
        "      optimizer.zero_grad()\n",
        "      loss.backward()\n",
        "      optimizer.step()\n",
        "\n",
        "      avg_cost += loss/total_batch \n",
        "\n",
        "    train_hist[epoch] = avg_cost\n",
        "\n",
        "    time_end = datetime.datetime.now()\n",
        "    if epoch % verbose == 0:\n",
        "      print('Epoch:', '%04d' % (epoch), 'train loss :', '{:.4f}'.format(avg_cost), f'time : {str(time_end-time_start)}')\n",
        "    # patience번째 마다 early stopping 여부 확인\n",
        "    # if (epoch % patience == 0) & (epoch != 0):\n",
        "    #   if train_hist[epoch-patience] < train_hist[epoch]:\n",
        "        # print('\\n Early Stopping')\n",
        "    #     break\n",
        "  \n",
        "  return model.eval(), train_hist"
      ]
    },
    {
      "cell_type": "code",
      "source": [
        "device"
      ],
      "metadata": {
        "colab": {
          "base_uri": "https://localhost:8080/"
        },
        "id": "AJXTmfKg-bSh",
        "outputId": "2632ffbc-6947-4139-fa7f-343a935c975e"
      },
      "execution_count": 24,
      "outputs": [
        {
          "output_type": "execute_result",
          "data": {
            "text/plain": [
              "device(type='cuda', index=0)"
            ]
          },
          "metadata": {},
          "execution_count": 24
        }
      ]
    },
    {
      "cell_type": "code",
      "execution_count": null,
      "metadata": {
        "id": "9tQfBdilXPue"
      },
      "outputs": [],
      "source": [
        "# 모델 학습 (LSTM layer를 2개로 설정하였습니다.)\n",
        "\n",
        "input_dim = 58 # 입력 컬럼의 개수\n",
        "hidden_dim = 288 # 은닉 상태의 개수\n",
        "output_dim = 2016 # 출력 값의 개수(형태)\n",
        "learning_rate = 0.001 # 학습률\n",
        "nb_epochs = 30 # 에포크의 수\n",
        "seq_length = 2016 # sequence의 길이 (얼마간의 데이터가 들어오는가)\n",
        "\n",
        "\n",
        "net = Net(input_dim, hidden_dim, seq_length, output_dim, 2).to(device)\n",
        "model, train_hist = train_model(net, dataloader, num_epochs = nb_epochs,\n",
        "                                lr = learning_rate, verbose = 1, patience = 4)"
      ]
    },
    {
      "cell_type": "code",
      "execution_count": null,
      "metadata": {
        "colab": {
          "base_uri": "https://localhost:8080/",
          "height": 542
        },
        "id": "Jw7H1772bbx4",
        "outputId": "c8224a97-d58c-44a7-b4d9-65ee49577387"
      },
      "outputs": [
        {
          "output_type": "display_data",
          "data": {
            "text/plain": [
              "<Figure size 1000x600 with 1 Axes>"
            ],
            "image/png": "[encoded data removed]"
          },
          "metadata": {}
        }
      ],
      "source": [
        "# 학습 중 MAPE 추이 확인\n",
        "\n",
        "import matplotlib.pyplot as plt\n",
        "\n",
        "fig = plt.figure(figsize = (10,6))\n",
        "plt.plot(train_hist, label = 'MAPE')\n",
        "plt.xlabel('epoch')\n",
        "plt.xticks([i for i in range(1, 51)])\n",
        "plt.ylabel('MAPE')\n",
        "plt.legend()\n",
        "plt.show()"
      ]
    },
    {
      "cell_type": "code",
      "source": [
        "torch.save(model,'model_20230530_jiho.pth')"
      ],
      "metadata": {
        "id": "zjnx9JMUj6Vc"
      },
      "execution_count": null,
      "outputs": []
    },
    {
      "cell_type": "code",
      "source": [
        "dataloader"
      ],
      "metadata": {
        "colab": {
          "base_uri": "https://localhost:8080/"
        },
        "id": "dOLbKeUJSiiw",
        "outputId": "5e011e4a-9390-4bf1-e651-c5b937ad0186"
      },
      "execution_count": null,
      "outputs": [
        {
          "output_type": "execute_result",
          "data": {
            "text/plain": [
              "<torch.utils.data.dataloader.DataLoader at 0x7fdb27f35c90>"
            ]
          },
          "metadata": {},
          "execution_count": 16
        }
      ]
    },
    {
      "cell_type": "code",
      "execution_count": null,
      "metadata": {
        "id": "eOrqHPc4R2Hn"
      },
      "outputs": [],
      "source": [
        "# 모델 검증\n",
        "\n",
        "dataset.set_mode('test')\n",
        "\n",
        "def MAPE(true, pred):\n",
        "    return np.mean(np.abs((true-pred)/true))\n",
        "\n",
        "with torch.no_grad():\n",
        "  MAPE_list = []\n",
        "  pred_list = []\n",
        "  true_list = []\n",
        "  for X, y in dataloader:\n",
        "    # 데이터 꺼내기\n",
        "    X = X.to(device)\n",
        "    y = y.to(device)\n",
        "    pred = model(X)\n",
        "    # Scaler로 원래 값으로 돌려놓기\n",
        "    pred_inverse = dataset.y_scaler.inverse_transform(np.array(pred.cpu()))\n",
        "    testY_inverse = dataset.y_scaler.inverse_transform(np.squeeze(y).to('cpu'))\n",
        "    pred_list.append(pred_inverse)\n",
        "    true_list.append(testY_inverse)\n",
        "    # Calculate MAPE\n",
        "    MAPE_list.append(round(MAPE(testY_inverse, pred_inverse)*100, 3))"
      ]
    },
    {
      "cell_type": "code",
      "source": [
        "print('평균 MAPE는 {}% 입니다'.format(round(sum(MAPE_list) / len(MAPE_list), 3)))"
      ],
      "metadata": {
        "colab": {
          "base_uri": "https://localhost:8080/"
        },
        "id": "3c4h9JbDlWYF",
        "outputId": "0249bfa2-e259-4114-8e29-6c27353b9c52"
      },
      "execution_count": null,
      "outputs": [
        {
          "output_type": "stream",
          "name": "stdout",
          "text": [
            "평균 MAPE는 5.8% 입니다\n"
          ]
        }
      ]
    },
    {
      "cell_type": "code",
      "source": [
        "true_list.__len__()"
      ],
      "metadata": {
        "colab": {
          "base_uri": "https://localhost:8080/"
        },
        "id": "9ZwyuxjOjvod",
        "outputId": "d750b722-3400-4b81-a50f-7f0d3edb054c"
      },
      "execution_count": null,
      "outputs": [
        {
          "output_type": "execute_result",
          "data": {
            "text/plain": [
              "7"
            ]
          },
          "metadata": {},
          "execution_count": 28
        }
      ]
    },
    {
      "cell_type": "code",
      "source": [
        "# 무작위하게 고른 샘플의 백분율 오차 확인\n",
        "\n",
        "np.abs(pred_list[5][0] - true_list[5][0])/ true_list[5][0]"
      ],
      "metadata": {
        "colab": {
          "base_uri": "https://localhost:8080/"
        },
        "id": "TTxyV3gCmD30",
        "outputId": "dd16fdfc-a1da-4908-bb83-2417f9aff9bf"
      },
      "execution_count": null,
      "outputs": [
        {
          "output_type": "execute_result",
          "data": {
            "text/plain": [
              "array([4.53031244e-03, 3.58087802e-03, 9.30015796e-03, 9.10968216e-03,\n",
              "       1.47330227e-02, 8.23269317e-05, 2.40396663e-04, 8.17003558e-03,\n",
              "       3.23523541e-02, 2.00079782e-03, 7.01463945e-03, 3.01222009e-03,\n",
              "       1.58032735e-02, 6.84075255e-03, 6.60746471e-03, 4.33133399e-03,\n",
              "       7.41417585e-03, 5.91901836e-03, 1.01892851e-02, 4.35942480e-03,\n",
              "       9.81045452e-03, 2.17521737e-02, 4.64383117e-03, 1.59809504e-03,\n",
              "       2.23350650e-02, 7.53309972e-03, 1.74476136e-02, 1.79403916e-03,\n",
              "       1.81805644e-03, 1.28377133e-02, 3.72010065e-03, 1.07087143e-03,\n",
              "       2.76981200e-03, 7.84684780e-03, 1.24839816e-02, 1.48326543e-02,\n",
              "       2.16022930e-02, 4.52541716e-02, 2.89915398e-02, 4.55755080e-02,\n",
              "       3.80549206e-02, 4.72780136e-02, 4.31451516e-02, 6.49739978e-02,\n",
              "       5.33309868e-02, 6.34124133e-02, 4.05736594e-02, 5.95900596e-02,\n",
              "       5.80481893e-02, 8.12127646e-02, 5.41937443e-02, 7.13761735e-02,\n",
              "       7.24246830e-02, 5.77500960e-02, 6.35926572e-02, 4.69791622e-02,\n",
              "       7.53941471e-02, 6.46605918e-02, 6.57333987e-02, 6.66332586e-02,\n",
              "       6.32931453e-02, 8.39005436e-02, 6.74317530e-02, 7.03565025e-02,\n",
              "       5.56593813e-02, 7.02853812e-02, 7.64167354e-02, 6.66947049e-02,\n",
              "       8.24301665e-02, 7.97671932e-02, 6.44396934e-02, 8.42062716e-02])"
            ]
          },
          "metadata": {},
          "execution_count": 29
        }
      ]
    },
    {
      "cell_type": "code",
      "source": [],
      "metadata": {
        "id": "QJ_MsXBHjrox"
      },
      "execution_count": null,
      "outputs": []
    }
  ],
  "metadata": {
    "accelerator": "GPU",
    "colab": {
      "provenance": [],
      "machine_shape": "hm",
      "gpuType": "T4"
    },
    "kernelspec": {
      "display_name": "Python 3",
      "name": "python3"
    },
    "language_info": {
      "name": "python"
    }
  },
  "nbformat": 4,
  "nbformat_minor": 0
}