{
 "cells": [
  {
   "cell_type": "code",
   "execution_count": null,
   "metadata": {},
   "outputs": [],
   "source": [
    "import pandas as pd\n",
    "import requests\n",
    "import json\n",
    "import time\n",
    "\n",
    "def getHolidays(year,month,key):\n",
    "    url = 'http://apis.data.go.kr/B090041/openapi/service/SpcdeInfoService/getRestDeInfo'\n",
    "\n",
    "    params = {\n",
    "            'solYear':str(year),\n",
    "            'solMonth':str(month).zfill(2),\n",
    "            'numOfRows':'20',\n",
    "            '_type':'json',\n",
    "            'ServiceKey' : key\n",
    "            }\n",
    "    \n",
    "    res = requests.get(url,params=params)\n",
    "    dic = json.loads(res.text)\n",
    "    counts = dic['response']['body']['totalCount']\n",
    "\n",
    "    if counts < 1 :\n",
    "        return []\n",
    "\n",
    "    item =  dic['response']['body']['items']['item']\n",
    "\n",
    "    print(item)\n",
    "\n",
    "    if counts == 1:\n",
    "        return [item]\n",
    "\n",
    "    return item"
   ]
  },
  {
   "cell_type": "code",
   "execution_count": null,
   "metadata": {},
   "outputs": [],
   "source": [
    "api_key = 'yJJy5dAw+XW9PSsnnA7wROpORFf3AXL9Cvi9M6YsvpPPlUoJJFwmfT1KVKxIsU2be6EPGFKv3YHLU+DZJ9d4Vw=='\n",
    "\n",
    "holidays = []\n",
    "\n",
    "for year in range(2012, 2024):\n",
    "    for month in range(1,13):\n",
    "        try:\n",
    "            holidays.extend(getHolidays(year, month, api_key))\n",
    "        except:\n",
    "            time.sleep(2)\n",
    "            holidays.extend(getHolidays(year, month, api_key))\n",
    "\n",
    "df_holidays = pd.DataFrame(holidays)\n",
    "\n",
    "df_holidays['locdate'] = pd.to_datetime(df_holidays['locdate'], format='%Y%m%d')"
   ]
  },
  {
   "cell_type": "code",
   "execution_count": null,
   "metadata": {},
   "outputs": [],
   "source": [
    "df_holidays.to_csv(\"./data/holidays.csv\", encoding='UTF-8', index=0)"
   ]
  }
 ],
 "metadata": {
  "language_info": {
   "name": "python"
  },
  "orig_nbformat": 4
 },
 "nbformat": 4,
 "nbformat_minor": 2
}
